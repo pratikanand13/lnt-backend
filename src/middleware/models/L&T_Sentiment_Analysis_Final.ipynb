{
 "cells": [
  {
   "cell_type": "code",
   "execution_count": 1,
   "id": "dae33e49",
   "metadata": {},
   "outputs": [
    {
     "name": "stdout",
     "output_type": "stream",
     "text": [
      "['@user', 'L&T', 'is', 'such', 'a', 'cool', 'company', 'http']\n",
      "@user L&T is such a cool company http\n",
      "Negative 0.0015705187\n",
      "Neutral 0.018332109\n",
      "Positive 0.9800973\n"
     ]
    }
   ],
   "source": [
    "from transformers import AutoTokenizer,AutoModelForSequenceClassification\n",
    "from scipy.special import softmax\n",
    "\n",
    "tweet = \"@MehranShakarami L&T is such a cool company https://mehranshakarami.com\"\n",
    "#preprocess tweet\n",
    "tweet_words = []\n",
    "\n",
    "for word in tweet.split(' '):\n",
    "    if word.startswith('@') and len(word) > 1:\n",
    "        word = '@user'\n",
    "    elif word.startswith('http'):\n",
    "        word = \"http\"\n",
    "    tweet_words.append(word)\n",
    "\n",
    "print(tweet_words)\n",
    "\n",
    "tweet_proc = \" \".join(tweet_words)\n",
    "print(tweet_proc)\n",
    "\n",
    "#load model and tokenizer\n",
    "roberta = \"cardiffnlp/twitter-roberta-base-sentiment\"\n",
    "model = AutoModelForSequenceClassification.from_pretrained(roberta)\n",
    "tokenizer = AutoTokenizer.from_pretrained(roberta)\n",
    "labels = ['Negative', 'Neutral', 'Positive']\n",
    "\n",
    "# sentiment analysis\n",
    "encoded_tweet = tokenizer(tweet_proc, return_tensors='pt')\n",
    "# output = model(encoded_tweet['input_ids'],encoded_tweet['attention_mask'])\n",
    "# print(output)\n",
    "\n",
    "output = model(**encoded_tweet)\n",
    "\n",
    "scores = output[0][0].detach().numpy()\n",
    "scores = softmax(scores)\n",
    "\n",
    "for i in range(len(scores)):\n",
    "    l = labels[i]\n",
    "    s = scores[i]\n",
    "    print(l,s)\n"
   ]
  },
  {
   "cell_type": "code",
   "execution_count": null,
   "id": "c24e0d19",
   "metadata": {},
   "outputs": [],
   "source": []
  },
  {
   "cell_type": "code",
   "execution_count": null,
   "id": "20830faa",
   "metadata": {},
   "outputs": [],
   "source": []
  },
  {
   "cell_type": "code",
   "execution_count": 1,
   "id": "a58c5bef",
   "metadata": {},
   "outputs": [],
   "source": [
    "import pickle"
   ]
  },
  {
   "cell_type": "code",
   "execution_count": 2,
   "id": "1047f707",
   "metadata": {},
   "outputs": [
    {
     "name": "stdout",
     "output_type": "stream",
     "text": [
      "18\n"
     ]
    }
   ],
   "source": [
    "tweets_loaded = pickle.load(open('./l&t_tweets_scraped','rb'))\n",
    "print((len(tweets_loaded)))"
   ]
  },
  {
   "cell_type": "code",
   "execution_count": 3,
   "metadata": {},
   "outputs": [
    {
     "name": "stdout",
     "output_type": "stream",
     "text": [
      "Negative 0.098172046\n",
      "Neutral 0.8554702\n",
      "Positive 0.046357818\n",
      "Negative 0.00367938\n",
      "Neutral 0.30981445\n",
      "Positive 0.68650615\n",
      "Negative 0.032738663\n",
      "Neutral 0.90714574\n",
      "Positive 0.060115725\n",
      "Negative 0.014479926\n",
      "Neutral 0.31553906\n",
      "Positive 0.66998094\n",
      "Negative 0.015702948\n",
      "Neutral 0.30448255\n",
      "Positive 0.6798145\n",
      "Negative 0.11141272\n",
      "Neutral 0.8256233\n",
      "Positive 0.06296398\n",
      "Negative 0.0142133385\n",
      "Neutral 0.29033992\n",
      "Positive 0.6954467\n",
      "Negative 0.46943554\n",
      "Neutral 0.49485558\n",
      "Positive 0.035708748\n",
      "Negative 0.003432167\n",
      "Neutral 0.35402226\n",
      "Positive 0.6425455\n",
      "Negative 0.0833322\n",
      "Neutral 0.5226492\n",
      "Positive 0.39401856\n",
      "Negative 0.7125565\n",
      "Neutral 0.26900133\n",
      "Positive 0.018442124\n",
      "Negative 0.065671295\n",
      "Neutral 0.8758163\n",
      "Positive 0.058512338\n",
      "Negative 0.0012406787\n",
      "Neutral 0.053452555\n",
      "Positive 0.9453067\n",
      "Negative 0.1467884\n",
      "Neutral 0.8170664\n",
      "Positive 0.036145285\n",
      "Negative 0.061085254\n",
      "Neutral 0.8868221\n",
      "Positive 0.052092668\n",
      "Negative 0.049172983\n",
      "Neutral 0.8892378\n",
      "Positive 0.061589293\n",
      "Negative 0.06952426\n",
      "Neutral 0.886878\n",
      "Positive 0.043597825\n",
      "Negative 0.031858586\n",
      "Neutral 0.932987\n",
      "Positive 0.035154507\n",
      "['Neutral', 'Positive', 'Neutral', 'Positive', 'Positive', 'Neutral', 'Positive', 'Neutral', 'Positive', 'Neutral', 'Negative', 'Neutral', 'Positive', 'Neutral', 'Neutral', 'Neutral', 'Neutral', 'Neutral'] [0.8554702, 0.68650615, 0.90714574, 0.66998094, 0.6798145, 0.8256233, 0.6954467, 0.49485558, 0.6425455, 0.5226492, 0.7125565, 0.8758163, 0.9453067, 0.8170664, 0.8868221, 0.8892378, 0.886878, 0.932987]\n"
     ]
    }
   ],
   "source": [
    "from transformers import AutoTokenizer,AutoModelForSequenceClassification\n",
    "from scipy.special import softmax\n",
    "#loading model and tokenizer\n",
    "roberta = \"cardiffnlp/twitter-roberta-base-sentiment\"\n",
    "model = AutoModelForSequenceClassification.from_pretrained(roberta)\n",
    "tokenizer = AutoTokenizer.from_pretrained(roberta)\n",
    "labels = ['Negative', 'Neutral', 'Positive']\n",
    "\n",
    "prediction_labels_lst=[]\n",
    "prediction_scores_lst=[]\n",
    "\n",
    "for tweet in tweets_loaded:\n",
    "    \n",
    "\n",
    "    # sentiment analysis\n",
    "    encoded_tweet = tokenizer(tweet[2], return_tensors='pt')\n",
    "    # output = model(encoded_tweet['input_ids'],encoded_tweet['attention_mask'])\n",
    "    # print(output)\n",
    "\n",
    "    output = model(**encoded_tweet)\n",
    "\n",
    "    scores = output[0][0].detach().numpy()\n",
    "    scores = softmax(scores)\n",
    "\n",
    "\n",
    "    for i in range(len(scores)):\n",
    "        l = labels[i]\n",
    "        s = scores[i]\n",
    "        print(l,s)\n",
    "    if scores[0]>scores[1] and scores[0]>scores[2]:\n",
    "        prediction_labels_lst.append(labels[0])\n",
    "        prediction_scores_lst.append(scores[0])\n",
    "    elif scores[1]>scores[0] and scores[1]>scores[2]:\n",
    "        prediction_labels_lst.append(labels[1])\n",
    "        prediction_scores_lst.append(scores[1])\n",
    "    else:\n",
    "        prediction_labels_lst.append(labels[2])\n",
    "        prediction_scores_lst.append(scores[2])\n",
    "\n",
    "\n",
    "print(prediction_labels_lst,prediction_scores_lst)\n",
    "        \n",
    "\n",
    "    "
   ]
  },
  {
   "cell_type": "code",
   "execution_count": 4,
   "id": "a6804be0",
   "metadata": {},
   "outputs": [
    {
     "name": "stdout",
     "output_type": "stream",
     "text": [
      "{'prediction_labels': ['Neutral', 'Positive', 'Neutral', 'Positive', 'Positive', 'Neutral', 'Positive', 'Neutral', 'Positive', 'Neutral', 'Negative', 'Neutral', 'Positive', 'Neutral', 'Neutral', 'Neutral', 'Neutral', 'Neutral'], 'prediction_scores': [0.8554702, 0.68650615, 0.90714574, 0.66998094, 0.6798145, 0.8256233, 0.6954467, 0.49485558, 0.6425455, 0.5226492, 0.7125565, 0.8758163, 0.9453067, 0.8170664, 0.8868221, 0.8892378, 0.886878, 0.932987], 'tweet_id': ['1771058079171522626', '1771056411839025414', '1771009462981238846', '1771007791383163130', '1771007356521894006', '1770460922609340748', '1771007293607256216', '1771006023945625859', '1770979339573834090', '1770871812576227584', '1770868576313913542', '1770867566967214306', '1770863062729347101', '1770836261936198143', '1770815243419090993', '1770813538388373587', '1770807230180343866', '1770798615931290045']}\n"
     ]
    }
   ],
   "source": [
    "tweet_ids=[]\n",
    "tweet_content=[]\n",
    "for tweet_info in tweets_loaded:\n",
    "    tweet_ids.append(str(tweet_info[0])) # This is the username\n",
    "for tweet_info in tweets_loaded:\n",
    "    tweet_content.append(tweet_info[2])\n",
    "    \n",
    "\n",
    "data_to_dump = {\"prediction_labels\":prediction_labels_lst, \"prediction_scores\":prediction_scores_lst, \"tweet_id\":tweet_ids}  \n",
    "print(data_to_dump)\n",
    "import json\n",
    "# Dump the data using pickle\n",
    "with open('data.json', 'w') as f:\n",
    "    json.dump(str(data_to_dump), f)\n"
   ]
  },
  {
   "cell_type": "code",
   "execution_count": null,
   "id": "5fd16b51",
   "metadata": {},
   "outputs": [],
   "source": []
  }
 ],
 "metadata": {
  "kernelspec": {
   "display_name": "base",
   "language": "python",
   "name": "python3"
  },
  "language_info": {
   "codemirror_mode": {
    "name": "ipython",
    "version": 3
   },
   "file_extension": ".py",
   "mimetype": "text/x-python",
   "name": "python",
   "nbconvert_exporter": "python",
   "pygments_lexer": "ipython3",
   "version": "3.9.12"
  }
 },
 "nbformat": 4,
 "nbformat_minor": 5
}
