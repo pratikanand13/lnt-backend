{
 "cells": [
  {
   "cell_type": "code",
   "execution_count": 1,
   "id": "4b573b4b",
   "metadata": {
    "execution": {
     "iopub.execute_input": "2024-03-20T14:04:30.405777Z",
     "iopub.status.busy": "2024-03-20T14:04:30.404770Z",
     "iopub.status.idle": "2024-03-20T14:04:30.976441Z",
     "shell.execute_reply": "2024-03-20T14:04:30.975410Z"
    }
   },
   "outputs": [],
   "source": [
    "import asyncio\n",
    "from twscrape import API, gather\n",
    "from twscrape.logger import set_log_level"
   ]
  },
  {
   "cell_type": "code",
   "execution_count": 2,
   "id": "5bdac690",
   "metadata": {
    "execution": {
     "iopub.execute_input": "2024-03-20T14:04:30.981421Z",
     "iopub.status.busy": "2024-03-20T14:04:30.980422Z",
     "iopub.status.idle": "2024-03-20T14:04:31.005618Z",
     "shell.execute_reply": "2024-03-20T14:04:31.004604Z"
    }
   },
   "outputs": [
    {
     "name": "stderr",
     "output_type": "stream",
     "text": [
      "\u001b[32m2024-03-22 13:22:03.984\u001b[0m | \u001b[33m\u001b[1mWARNING \u001b[0m | \u001b[36mtwscrape.accounts_pool\u001b[0m:\u001b[36madd_account\u001b[0m:\u001b[36m76\u001b[0m - \u001b[33m\u001b[1mAccount xolo_2003 already exists\u001b[0m\n"
     ]
    }
   ],
   "source": [
    "api = API()\n",
    "await api.pool.add_account(\"xolo_2003\", \"Narusasu@2003\", 'aman.tyagiofficial2003@gmail.com', \"Narusasu@2003\")"
   ]
  },
  {
   "cell_type": "code",
   "execution_count": 3,
   "id": "71b806ba",
   "metadata": {
    "execution": {
     "iopub.execute_input": "2024-03-20T14:04:31.010621Z",
     "iopub.status.busy": "2024-03-20T14:04:31.009630Z",
     "iopub.status.idle": "2024-03-20T14:04:31.028978Z",
     "shell.execute_reply": "2024-03-20T14:04:31.027968Z"
    }
   },
   "outputs": [
    {
     "data": {
      "text/plain": [
       "{'total': 0, 'success': 0, 'failed': 0}"
      ]
     },
     "execution_count": 3,
     "metadata": {},
     "output_type": "execute_result"
    }
   ],
   "source": [
    "await api.pool.login_all()"
   ]
  },
  {
   "cell_type": "code",
   "execution_count": 4,
   "id": "c3d4bcb0",
   "metadata": {
    "execution": {
     "iopub.execute_input": "2024-03-20T14:04:31.035130Z",
     "iopub.status.busy": "2024-03-20T14:04:31.034132Z",
     "iopub.status.idle": "2024-03-20T14:04:31.040714Z",
     "shell.execute_reply": "2024-03-20T14:04:31.039707Z"
    }
   },
   "outputs": [],
   "source": [
    "data = gather(api.search(\"larsentoubro\", limit=20))  # list[Tweet]"
   ]
  },
  {
   "cell_type": "code",
   "execution_count": 5,
   "id": "8e18c067",
   "metadata": {
    "execution": {
     "iopub.execute_input": "2024-03-20T14:04:31.043720Z",
     "iopub.status.busy": "2024-03-20T14:04:31.043720Z",
     "iopub.status.idle": "2024-03-20T14:04:31.052836Z",
     "shell.execute_reply": "2024-03-20T14:04:31.051829Z"
    }
   },
   "outputs": [
    {
     "name": "stdout",
     "output_type": "stream",
     "text": [
      "<coroutine object gather at 0x000001F1CFED17E0>\n"
     ]
    }
   ],
   "source": [
    "print(data)\n",
    "tweet_lst=[]"
   ]
  },
  {
   "cell_type": "code",
   "execution_count": 6,
   "id": "20018c8a",
   "metadata": {
    "execution": {
     "iopub.execute_input": "2024-03-20T14:04:31.056856Z",
     "iopub.status.busy": "2024-03-20T14:04:31.056856Z",
     "iopub.status.idle": "2024-03-20T14:04:33.961343Z",
     "shell.execute_reply": "2024-03-20T14:04:33.961343Z"
    }
   },
   "outputs": [
    {
     "name": "stdout",
     "output_type": "stream",
     "text": [
      "[1771058079171522626, 'maheshtiwari093', '@larsentoubro https://t.co/WLUGTI7kua']\n",
      "[1771056411839025414, 'larsentoubro', 'Water and sanitation is one of the four key themes of L&amp;T’s #CSR initiatives. Here is a glimpse of our flagship ‘Integrated Community Development Programme (ICDP)’ which benefits 42,618 households in 99 villages across India.\\n\\n#WorldWaterDay #WASH #LnTCares']\n",
      "[1771009462981238846, 'Ranask35', 'Top holdings of #Quant Flexi Cap Fund \\n\\n#RelianceIndustries \\n#JioFinance \\n#Swanenergy \\n#HUDCO \\n#AdaniPower \\n#Larsentoubro \\n#Biocon \\n#britannia \\n#Hindalco \\n#LIC \\n#SAIL\\n\\n#Jiofinance']\n",
      "[1771007791383163130, 'padhuhsr', '@IndexKarnataka @larsentoubro @larsentoubro @KridePrm @SWRRLY @RailMinIndia best coordination bw different organisation is the best example of lifetime delayed projects.']\n",
      "[1771007356521894006, 'padhuhsr', '@larsentoubro @KridePrm @SWRRLY @RailMinIndia best coordination bw different organisation is the best example of lifetime delayed projects']\n",
      "[1770460922609340748, 'IndexKarnataka', '. @larsentoubro has hit the ground in #Kanaka corridor!\\n\\nMeanwhile SWR transfers 115 acres for kanaka line\\n\\n#Heelalige\\n\\nL&amp;T workers spotted at #Heelalige railway station (survey &amp; construction workers with L&amp;T helmet) https://t.co/b8sdShCyZR']\n",
      "[1771007293607256216, 'padhuhsr', '@IndexKarnataka @larsentoubro @larsentoubro @KridePrm @SWRRLY @RailMinIndia best coordination bw different organisation is the best example of lifetime delayed projects']\n",
      "[1771006023945625859, 'HaridasuK', '@MicrosoftIndia @larsentoubro tdp, ycp, janasena and trs managements of Andhra Pradesh and Telangana using dangerous spying technologies and remote neural monitoring and motivating satellite technologies on our Prime Minister Narendra Modi and also on somany Central Government Ministers.']\n",
      "[1770979339573834090, 'Shiba11651', 'Mountain Climbers \\n\\nHealth Benefits:\\n- Helps with hip mobility\\n- Improves core strength\\n\\n60th Challenge on - 22nd Mar 2024\\n@larsentoubro \\n@GOQii \\n@GOQiiLife\\n#GOQiiCorporateChallenge\\n\\n#mountainclimbers  #reeloftheday  #fitnesstips #fitatanyage #fitatforty #FitAtFifty #FitAtHome https://t.co/GY5QiiuHak']\n",
      "[1770871812576227584, '___Faz___', '@EconomicTimes @DeloitteIndia @CHANEL @larsentoubro @TitanCompanyLtd @Pharma_Mankind @DrSJaishankar @Rameshjuneja Wow , I see Bonds.Nothing Else....']\n",
      "[1770868576313913542, 'Deepakkaushikd', \"@larsentoubro @LnTFinance Please help me with the documents of my Activa which i purchased through eauction from you. It's been 3 years still not able to get the proper papers. @FinMinIndia @nitin_gadkari @OfficeOfNG\"]\n",
      "[1770867566967214306, 'Aditya_G_Social', '@AjayshreeSamby3 @NavantiaOficial @larsentoubro No subtics']\n",
      "[1770863062729347101, 'i_kumbhar76818', '@EconomicTimes @DeloitteIndia @CHANEL @larsentoubro @TitanCompanyLtd @Pharma_Mankind @DrSJaishankar @Rameshjuneja Congratulations🎉🥳👏']\n",
      "[1770836261936198143, 'mvartalive', 'एल अँड टी फायनान्स होल्डींग्ज लिमिटेड (एलटीएफएच) कडून प्रतिवर्षी ५.९९ टक्के दराने स्पर्धात्मक व्याजदरावर सुपर बाईक कर्ज योजनेचा शुभारंभ\\n\\n#maharashtravarta #maharashtrawarta @larsentoubro @LnTFinance #MaharashtraNews #LTFH #larsenandtoubro \\nhttps://t.co/3S7AO1VBDy']\n",
      "[1770815243419090993, 'TariqBh43321224', '@EconomicTimes @DeloitteIndia @CHANEL @larsentoubro @TitanCompanyLtd @Pharma_Mankind @DrSJaishankar @Rameshjuneja https://t.co/9gu6cFWCoC']\n",
      "[1770813538388373587, 'KRISHAN95411687', '@EconomicTimes @DeloitteIndia @CHANEL @larsentoubro @TitanCompanyLtd @Pharma_Mankind @DrSJaishankar @Rameshjuneja Super']\n",
      "[1770807230180343866, 'RealtyNXT', '#NewsUpdate | Engineering &amp; construction major @larsentoubro bought 1.20 crore units of #NationalHighwaysInfraTrust for Rs 149.65 crore.\\n\\nhttps://t.co/HPtDR0q9lU\\n\\n#RealtyNXT #LarsenAndToubroLtd #InfrastructureInvestmentTrust #NationalStockExchange']\n",
      "[1770798615931290045, 'ETNOWlive', 'Just In | L&amp;T board meet on March 27 to consider fund raising, debt sale: Agencies\\n\\n@larsentoubro https://t.co/Frpt4afWUq']\n"
     ]
    }
   ],
   "source": [
    "async for tweet in api.search(\"larsentoubro\",limit=5):\n",
    "        tweet_lst.append([tweet.id, tweet.user.username, tweet.rawContent]) \n",
    "        print([tweet.id, tweet.user.username, tweet.rawContent]) "
   ]
  },
  {
   "cell_type": "code",
   "execution_count": null,
   "id": "5bbcbb60",
   "metadata": {
    "execution": {
     "iopub.execute_input": "2024-03-20T14:04:33.967353Z",
     "iopub.status.busy": "2024-03-20T14:04:33.967353Z",
     "iopub.status.idle": "2024-03-20T14:04:33.975091Z",
     "shell.execute_reply": "2024-03-20T14:04:33.973518Z"
    }
   },
   "outputs": [],
   "source": [
    "import pickle\n",
    "pickle.dump(tweet_lst,open('./l&t_tweets_scraped','wb'))"
   ]
  },
  {
   "cell_type": "code",
   "execution_count": null,
   "id": "72101c14",
   "metadata": {},
   "outputs": [],
   "source": []
  },
  {
   "cell_type": "code",
   "execution_count": null,
   "id": "0ca374b1",
   "metadata": {},
   "outputs": [],
   "source": []
  },
  {
   "cell_type": "code",
   "execution_count": null,
   "id": "3f04c497",
   "metadata": {},
   "outputs": [],
   "source": [
    "\n"
   ]
  }
 ],
 "metadata": {
  "kernelspec": {
   "display_name": "py3.9",
   "language": "python",
   "name": "py3.9"
  },
  "language_info": {
   "codemirror_mode": {
    "name": "ipython",
    "version": 3
   },
   "file_extension": ".py",
   "mimetype": "text/x-python",
   "name": "python",
   "nbconvert_exporter": "python",
   "pygments_lexer": "ipython3",
   "version": "3.12.2"
  }
 },
 "nbformat": 4,
 "nbformat_minor": 5
}
