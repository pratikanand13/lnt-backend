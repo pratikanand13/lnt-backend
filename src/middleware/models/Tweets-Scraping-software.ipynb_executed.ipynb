{
 "cells": [
  {
   "cell_type": "code",
   "execution_count": 1,
   "id": "4b573b4b",
   "metadata": {
    "execution": {
     "iopub.execute_input": "2024-03-21T12:42:17.021005Z",
     "iopub.status.busy": "2024-03-21T12:42:17.018995Z",
     "iopub.status.idle": "2024-03-21T12:42:18.629799Z",
     "shell.execute_reply": "2024-03-21T12:42:18.625771Z"
    }
   },
   "outputs": [],
   "source": [
    "import asyncio\n",
    "from twscrape import API, gather\n",
    "from twscrape.logger import set_log_level"
   ]
  },
  {
   "cell_type": "code",
   "execution_count": 2,
   "id": "5bdac690",
   "metadata": {
    "execution": {
     "iopub.execute_input": "2024-03-21T12:42:18.656032Z",
     "iopub.status.busy": "2024-03-21T12:42:18.654801Z",
     "iopub.status.idle": "2024-03-21T12:42:18.728183Z",
     "shell.execute_reply": "2024-03-21T12:42:18.726151Z"
    }
   },
   "outputs": [
    {
     "name": "stderr",
     "output_type": "stream",
     "text": [
      "\u001b[32m2024-03-21 18:12:18.712\u001b[0m | \u001b[33m\u001b[1mWARNING \u001b[0m | \u001b[36mtwscrape.accounts_pool\u001b[0m:\u001b[36madd_account\u001b[0m:\u001b[36m76\u001b[0m - \u001b[33m\u001b[1mAccount xolo_2003 already exists\u001b[0m\n"
     ]
    }
   ],
   "source": [
    "api = API()\n",
    "await api.pool.add_account(\"xolo_2003\", \"Narusasu@2003\", 'aman.tyagiofficial2003@gmail.com', \"Narusasu@2003\")"
   ]
  },
  {
   "cell_type": "code",
   "execution_count": 3,
   "id": "71b806ba",
   "metadata": {
    "execution": {
     "iopub.execute_input": "2024-03-21T12:42:18.744184Z",
     "iopub.status.busy": "2024-03-21T12:42:18.740170Z",
     "iopub.status.idle": "2024-03-21T12:42:18.795440Z",
     "shell.execute_reply": "2024-03-21T12:42:18.792414Z"
    }
   },
   "outputs": [
    {
     "data": {
      "text/plain": [
       "{'total': 0, 'success': 0, 'failed': 0}"
      ]
     },
     "execution_count": 3,
     "metadata": {},
     "output_type": "execute_result"
    }
   ],
   "source": [
    "await api.pool.login_all()"
   ]
  },
  {
   "cell_type": "code",
   "execution_count": 4,
   "id": "c3d4bcb0",
   "metadata": {
    "execution": {
     "iopub.execute_input": "2024-03-21T12:42:18.807463Z",
     "iopub.status.busy": "2024-03-21T12:42:18.805441Z",
     "iopub.status.idle": "2024-03-21T12:42:18.819713Z",
     "shell.execute_reply": "2024-03-21T12:42:18.816689Z"
    }
   },
   "outputs": [],
   "source": [
    "data = gather(api.search(\"larsentoubro\", limit=20))  # list[Tweet]"
   ]
  },
  {
   "cell_type": "code",
   "execution_count": 5,
   "id": "8e18c067",
   "metadata": {
    "execution": {
     "iopub.execute_input": "2024-03-21T12:42:18.830716Z",
     "iopub.status.busy": "2024-03-21T12:42:18.829719Z",
     "iopub.status.idle": "2024-03-21T12:42:18.847822Z",
     "shell.execute_reply": "2024-03-21T12:42:18.842797Z"
    }
   },
   "outputs": [
    {
     "name": "stdout",
     "output_type": "stream",
     "text": [
      "<coroutine object gather at 0x00000196B42D0040>\n"
     ]
    }
   ],
   "source": [
    "print(data)\n",
    "tweet_lst=[]"
   ]
  },
  {
   "cell_type": "code",
   "execution_count": 6,
   "id": "20018c8a",
   "metadata": {
    "execution": {
     "iopub.execute_input": "2024-03-21T12:42:18.861825Z",
     "iopub.status.busy": "2024-03-21T12:42:18.859822Z",
     "iopub.status.idle": "2024-03-21T12:42:23.085245Z",
     "shell.execute_reply": "2024-03-21T12:42:23.077883Z"
    }
   },
   "outputs": [
    {
     "name": "stdout",
     "output_type": "stream",
     "text": [
      "[1770742906199908511, 'AjayshreeSamby3', 'S-81 Issac Pearl. The Spanish offering for P-75I by @NavantiaOficial along with @larsentoubro . First ever inside access to this 3000 ton giant Submarine while in active duty.\\nhttps://t.co/HVgqPOFo6f']\n",
      "[1770739734463086714, 'Pradyumnapintoo', '@epfobandra@larsentoubro@pmo\\n\\nThis is to bring to your notice that one of my Cousin is trying his level best to update his kyc and signature on epfo portal but due to negligence at Lnt official its not being resolved. We are going through though time meanwhile they are least..']\n",
      "[1770736318525345854, 'ExtraaGyan', 'NCC LIMITED INFLATION ADJUSTED CHART:\\n-700+ MINIMUM \\n-40% PAT AND REVENUE GROWTH IN LAST 2 YEARS\\n-57000 CRORE + ORDER BOOK\\n-LOWEST DEBT TO EQUTY IN INFRA COMPANIES\\n-CAPEX BOOM\\n-HIGH FII STAKE\\n#ncc #ncclimited #niftyinfra #LarsenToubro #niftysmallcap #Multibaggers #chart https://t.co/bEVFpckFB7']\n",
      "[1770734173554106583, 'ET_Infra', 'Larsen &amp; Toubro buys 1.20 cr units of National Highways Infra Trust https://t.co/a5xH2bOvaP via @ET_Infra @larsentoubro #nahi #InvIt #highway #construction']\n",
      "[1770714460006895621, 'BiginfoI', '#Contract Update: Larsen &amp; Toubro bags order for Lift Irrigation project in #Odisha \\n\\nProject Cost\\xa0- 587 Crore\\n\\nCompletion Period\\xa0- 36 Months\\n\\n@OdishaWater \\n@larsentoubro \\n@BiginfoI \\n@investindia \\n\\n#LatestNews #Odisha #irrigation #thursdayvibes #Election2024 #Holi2024 #Updates https://t.co/NQcH0RJ4UN']\n",
      "[1770689047855280146, 'TheWealthelite', 'Top holdings of #Quant Flexi Cap Fund  \\n\\n#RelianceIndustries \\n#JioFinance \\n#Swanenergy \\n#HUDCO \\n#AdaniPower \\n#Larsentoubro \\n#Biocon \\n#britannia \\n#Hindalco \\n#LIC \\n#SAIL']\n",
      "[1770669953881870570, 'TheWealthelite', '#HDFCBank #LarsenToubro #ICICIBank #TataSteel #AxisBank are top contributors to the #Nifty50.']\n",
      "[1770669168125206893, 'MicrosoftIndia', \"Advancing towards an AI-first approach, @larsentoubro's cognitive services leveraged #NLP &amp; #GenAI on #AzureOpenAI to extract key data from documents, identified crucial contract clauses, technical details in emails and reports, and insights from across projects #AIFirstMovers https://t.co/wwobMNQDr4\"]\n",
      "[1770665605223321852, 'getblinkx', 'Technical Short Term\\n\\nBUY – Larsen and Toubro Ltd.\\n\\n#LandT #larsentoubro #larsenandtubro #larsenturboltd #nifty #banknifty #viralpost #nse #bse #nifty50 #trading #intradaytrading #stockmarketindia #markets #stockmarket #investor #investments #finance #research #MadeForTheMarket #blinkX #getblinkX']\n",
      "[1770659241042346282, 'JayantKrishnaIN', \"Loved experiencing India's 1st undersea tunnel's 2-km stretch under Arabian Sea as 1st phase of coastal road between Worli &amp; Marine Drive, an 10.5-km-long marvel by @mybmc &amp; @larsentoubro that will save $100 m/year in carbon emissions @mybmcCoastalRd @CMOMaharashtra @narendramodi https://t.co/2Qo5YFFkwX\"]\n",
      "[1770646030943428694, 'Ashutos66391798', '@IndexKarnataka @larsentoubro 👍']\n",
      "[1770644358154596626, 'FI_Broking', '👉L&amp;T Technology Services on Wednesday said that it was planning to train 1,000 engineers in #Nvidia’s GenAI software.\\n\\n#larsentoubro']\n",
      "[1770618425767031018, 'Shiba11651', 'Fruits\\n\\nHealth Benefits:\\n- High source of antioxidants \\n- Improves heart health\\n\\n59th Challenge on - 21st Mar 2024\\n@larsentoubro\\n@GOQii\\n@GOQiiLife\\n#GOQiiCorporateChallenge \\n\\n#fruits #fruitbasket #kiwi #kiwifruit \\n#healthyeating #fitnesstips  #fitatanyage #fitatforty #FitAtFifty https://t.co/sdhhs1vRnk']\n",
      "[1770463300721004960, 'annuclint', '@IndexKarnataka @larsentoubro What about Whitefield line? 🤔']\n",
      "[1770460922609340748, 'IndexKarnataka', '. @larsentoubro has hit the ground in #Kanaka corridor!\\n\\nMeanwhile SWR transfers 115 acres for kanaka line\\n\\n#Heelalige\\n\\nL&amp;T workers spotted at #Heelalige railway station (survey &amp; construction workers with L&amp;T helmet) https://t.co/b8sdShCyZR']\n"
     ]
    }
   ],
   "source": [
    "async for tweet in api.search(\"larsentoubro\",limit=5):\n",
    "        tweet_lst.append([tweet.id, tweet.user.username, tweet.rawContent]) \n",
    "        print([tweet.id, tweet.user.username, tweet.rawContent]) "
   ]
  },
  {
   "cell_type": "code",
   "execution_count": 7,
   "id": "5bbcbb60",
   "metadata": {
    "execution": {
     "iopub.execute_input": "2024-03-21T12:42:23.103350Z",
     "iopub.status.busy": "2024-03-21T12:42:23.101359Z",
     "iopub.status.idle": "2024-03-21T12:42:23.132353Z",
     "shell.execute_reply": "2024-03-21T12:42:23.127319Z"
    }
   },
   "outputs": [],
   "source": [
    "import pickle\n",
    "pickle.dump(tweet_lst,open('./l&t_tweets_scraped','wb'))"
   ]
  },
  {
   "cell_type": "code",
   "execution_count": null,
   "id": "72101c14",
   "metadata": {},
   "outputs": [],
   "source": []
  },
  {
   "cell_type": "code",
   "execution_count": null,
   "id": "0ca374b1",
   "metadata": {},
   "outputs": [],
   "source": []
  },
  {
   "cell_type": "code",
   "execution_count": null,
   "id": "3f04c497",
   "metadata": {},
   "outputs": [],
   "source": [
    "\n"
   ]
  }
 ],
 "metadata": {
  "kernelspec": {
   "display_name": "py3.12",
   "language": "python",
   "name": "py3.12"
  },
  "language_info": {
   "codemirror_mode": {
    "name": "ipython",
    "version": 3
   },
   "file_extension": ".py",
   "mimetype": "text/x-python",
   "name": "python",
   "nbconvert_exporter": "python",
   "pygments_lexer": "ipython3",
   "version": "3.12.2"
  }
 },
 "nbformat": 4,
 "nbformat_minor": 5
}
